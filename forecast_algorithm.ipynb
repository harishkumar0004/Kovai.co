{
 "cells": [
  {
   "cell_type": "code",
   "execution_count": 9,
   "id": "cce844f8-fb9c-43da-9bd1-2d00ce4945c5",
   "metadata": {},
   "outputs": [],
   "source": [
    "import pandas as pd"
   ]
  },
  {
   "cell_type": "code",
   "execution_count": 10,
   "id": "9b82aa12",
   "metadata": {},
   "outputs": [],
   "source": [
    "df = pd.read_csv(\"d:/kovai-data-science-intern/data/data.csv\")"
   ]
  },
  {
   "cell_type": "code",
   "execution_count": 11,
   "id": "8e12eced",
   "metadata": {},
   "outputs": [
    {
     "name": "stderr",
     "output_type": "stream",
     "text": [
      "C:\\Users\\hku16\\AppData\\Local\\Temp\\ipykernel_17164\\277661352.py:1: UserWarning: Parsing dates in %d/%m/%Y format when dayfirst=False (the default) was specified. Pass `dayfirst=True` or specify a format to silence this warning.\n",
      "  df['Date'] = pd.to_datetime(df['Date'])\n"
     ]
    }
   ],
   "source": [
    "df['Date'] = pd.to_datetime(df['Date'])\n",
    "df.fillna(0,inplace =True)\n",
    "df['Total']= df[['Local Route', 'Light Rail','Peak Service','Rapid Route', 'School','Other']].sum(axis=1)"
   ]
  },
  {
   "cell_type": "code",
   "execution_count": 12,
   "id": "e4d473a0",
   "metadata": {},
   "outputs": [
    {
     "name": "stdout",
     "output_type": "stream",
     "text": [
      "<class 'pandas.core.frame.DataFrame'>\n",
      "RangeIndex: 1918 entries, 0 to 1917\n",
      "Data columns (total 8 columns):\n",
      " #   Column        Non-Null Count  Dtype         \n",
      "---  ------        --------------  -----         \n",
      " 0   Date          1918 non-null   datetime64[ns]\n",
      " 1   Local Route   1918 non-null   int64         \n",
      " 2   Light Rail    1918 non-null   int64         \n",
      " 3   Peak Service  1918 non-null   int64         \n",
      " 4   Rapid Route   1918 non-null   int64         \n",
      " 5   School        1918 non-null   int64         \n",
      " 6   Other         1918 non-null   float64       \n",
      " 7   Total         1918 non-null   float64       \n",
      "dtypes: datetime64[ns](1), float64(2), int64(5)\n",
      "memory usage: 120.0 KB\n"
     ]
    }
   ],
   "source": [
    "df.info()"
   ]
  },
  {
   "cell_type": "code",
   "execution_count": 13,
   "id": "1c06e1b2",
   "metadata": {},
   "outputs": [
    {
     "data": {
      "text/html": [
       "<div>\n",
       "<style scoped>\n",
       "    .dataframe tbody tr th:only-of-type {\n",
       "        vertical-align: middle;\n",
       "    }\n",
       "\n",
       "    .dataframe tbody tr th {\n",
       "        vertical-align: top;\n",
       "    }\n",
       "\n",
       "    .dataframe thead th {\n",
       "        text-align: right;\n",
       "    }\n",
       "</style>\n",
       "<table border=\"1\" class=\"dataframe\">\n",
       "  <thead>\n",
       "    <tr style=\"text-align: right;\">\n",
       "      <th></th>\n",
       "      <th>Date</th>\n",
       "      <th>Local Route</th>\n",
       "      <th>Light Rail</th>\n",
       "      <th>Peak Service</th>\n",
       "      <th>Rapid Route</th>\n",
       "      <th>School</th>\n",
       "      <th>Other</th>\n",
       "      <th>Total</th>\n",
       "    </tr>\n",
       "  </thead>\n",
       "  <tbody>\n",
       "    <tr>\n",
       "      <th>0</th>\n",
       "      <td>2024-08-30</td>\n",
       "      <td>16436</td>\n",
       "      <td>10705</td>\n",
       "      <td>225</td>\n",
       "      <td>19026</td>\n",
       "      <td>3925</td>\n",
       "      <td>59.0</td>\n",
       "      <td>50376.0</td>\n",
       "    </tr>\n",
       "    <tr>\n",
       "      <th>1</th>\n",
       "      <td>2023-09-15</td>\n",
       "      <td>15499</td>\n",
       "      <td>10671</td>\n",
       "      <td>267</td>\n",
       "      <td>18421</td>\n",
       "      <td>4519</td>\n",
       "      <td>61.0</td>\n",
       "      <td>49438.0</td>\n",
       "    </tr>\n",
       "    <tr>\n",
       "      <th>2</th>\n",
       "      <td>2021-12-28</td>\n",
       "      <td>1756</td>\n",
       "      <td>2352</td>\n",
       "      <td>0</td>\n",
       "      <td>3775</td>\n",
       "      <td>0</td>\n",
       "      <td>13.0</td>\n",
       "      <td>7896.0</td>\n",
       "    </tr>\n",
       "    <tr>\n",
       "      <th>3</th>\n",
       "      <td>2023-01-11</td>\n",
       "      <td>10536</td>\n",
       "      <td>8347</td>\n",
       "      <td>223</td>\n",
       "      <td>14072</td>\n",
       "      <td>0</td>\n",
       "      <td>48.0</td>\n",
       "      <td>33226.0</td>\n",
       "    </tr>\n",
       "    <tr>\n",
       "      <th>4</th>\n",
       "      <td>2021-09-11</td>\n",
       "      <td>820</td>\n",
       "      <td>612</td>\n",
       "      <td>0</td>\n",
       "      <td>1283</td>\n",
       "      <td>0</td>\n",
       "      <td>11.0</td>\n",
       "      <td>2726.0</td>\n",
       "    </tr>\n",
       "  </tbody>\n",
       "</table>\n",
       "</div>"
      ],
      "text/plain": [
       "        Date  Local Route  Light Rail  Peak Service  Rapid Route  School  \\\n",
       "0 2024-08-30        16436       10705           225        19026    3925   \n",
       "1 2023-09-15        15499       10671           267        18421    4519   \n",
       "2 2021-12-28         1756        2352             0         3775       0   \n",
       "3 2023-01-11        10536        8347           223        14072       0   \n",
       "4 2021-09-11          820         612             0         1283       0   \n",
       "\n",
       "   Other    Total  \n",
       "0   59.0  50376.0  \n",
       "1   61.0  49438.0  \n",
       "2   13.0   7896.0  \n",
       "3   48.0  33226.0  \n",
       "4   11.0   2726.0  "
      ]
     },
     "execution_count": 13,
     "metadata": {},
     "output_type": "execute_result"
    }
   ],
   "source": [
    "df.head()"
   ]
  },
  {
   "cell_type": "code",
   "execution_count": 14,
   "id": "399dd4c0",
   "metadata": {},
   "outputs": [],
   "source": [
    "df = df.sort_values(by='Date')"
   ]
  },
  {
   "cell_type": "code",
   "execution_count": 15,
   "id": "189cc32c",
   "metadata": {},
   "outputs": [
    {
     "data": {
      "text/html": [
       "<div>\n",
       "<style scoped>\n",
       "    .dataframe tbody tr th:only-of-type {\n",
       "        vertical-align: middle;\n",
       "    }\n",
       "\n",
       "    .dataframe tbody tr th {\n",
       "        vertical-align: top;\n",
       "    }\n",
       "\n",
       "    .dataframe thead th {\n",
       "        text-align: right;\n",
       "    }\n",
       "</style>\n",
       "<table border=\"1\" class=\"dataframe\">\n",
       "  <thead>\n",
       "    <tr style=\"text-align: right;\">\n",
       "      <th></th>\n",
       "      <th>Date</th>\n",
       "      <th>Local Route</th>\n",
       "      <th>Light Rail</th>\n",
       "      <th>Peak Service</th>\n",
       "      <th>Rapid Route</th>\n",
       "      <th>School</th>\n",
       "      <th>Other</th>\n",
       "      <th>Total</th>\n",
       "    </tr>\n",
       "  </thead>\n",
       "  <tbody>\n",
       "    <tr>\n",
       "      <th>1013</th>\n",
       "      <td>2019-07-01</td>\n",
       "      <td>15987</td>\n",
       "      <td>9962</td>\n",
       "      <td>407</td>\n",
       "      <td>21223</td>\n",
       "      <td>3715</td>\n",
       "      <td>0.0</td>\n",
       "      <td>51294.0</td>\n",
       "    </tr>\n",
       "    <tr>\n",
       "      <th>1120</th>\n",
       "      <td>2019-07-02</td>\n",
       "      <td>16895</td>\n",
       "      <td>10656</td>\n",
       "      <td>409</td>\n",
       "      <td>21715</td>\n",
       "      <td>3993</td>\n",
       "      <td>0.0</td>\n",
       "      <td>53668.0</td>\n",
       "    </tr>\n",
       "    <tr>\n",
       "      <th>1451</th>\n",
       "      <td>2019-07-03</td>\n",
       "      <td>16613</td>\n",
       "      <td>10658</td>\n",
       "      <td>427</td>\n",
       "      <td>22025</td>\n",
       "      <td>3638</td>\n",
       "      <td>0.0</td>\n",
       "      <td>53361.0</td>\n",
       "    </tr>\n",
       "    <tr>\n",
       "      <th>1171</th>\n",
       "      <td>2019-07-04</td>\n",
       "      <td>16604</td>\n",
       "      <td>10445</td>\n",
       "      <td>437</td>\n",
       "      <td>21868</td>\n",
       "      <td>3576</td>\n",
       "      <td>0.0</td>\n",
       "      <td>52930.0</td>\n",
       "    </tr>\n",
       "    <tr>\n",
       "      <th>1523</th>\n",
       "      <td>2019-07-05</td>\n",
       "      <td>16040</td>\n",
       "      <td>10532</td>\n",
       "      <td>400</td>\n",
       "      <td>20697</td>\n",
       "      <td>2856</td>\n",
       "      <td>0.0</td>\n",
       "      <td>50525.0</td>\n",
       "    </tr>\n",
       "  </tbody>\n",
       "</table>\n",
       "</div>"
      ],
      "text/plain": [
       "           Date  Local Route  Light Rail  Peak Service  Rapid Route  School  \\\n",
       "1013 2019-07-01        15987        9962           407        21223    3715   \n",
       "1120 2019-07-02        16895       10656           409        21715    3993   \n",
       "1451 2019-07-03        16613       10658           427        22025    3638   \n",
       "1171 2019-07-04        16604       10445           437        21868    3576   \n",
       "1523 2019-07-05        16040       10532           400        20697    2856   \n",
       "\n",
       "      Other    Total  \n",
       "1013    0.0  51294.0  \n",
       "1120    0.0  53668.0  \n",
       "1451    0.0  53361.0  \n",
       "1171    0.0  52930.0  \n",
       "1523    0.0  50525.0  "
      ]
     },
     "execution_count": 15,
     "metadata": {},
     "output_type": "execute_result"
    }
   ],
   "source": [
    "df.head()"
   ]
  },
  {
   "cell_type": "code",
   "execution_count": 16,
   "id": "23a3fbc9",
   "metadata": {},
   "outputs": [],
   "source": [
    "df['year'] = df['Date'].dt.year\n",
    "df['month'] = df['Date'].dt.month\n",
    "df['day'] = df['Date'].dt.day\n",
    "df['weekday'] = df['Date'].dt.day_name()"
   ]
  },
  {
   "cell_type": "code",
   "execution_count": 17,
   "id": "f774864e",
   "metadata": {},
   "outputs": [
    {
     "data": {
      "text/html": [
       "<div>\n",
       "<style scoped>\n",
       "    .dataframe tbody tr th:only-of-type {\n",
       "        vertical-align: middle;\n",
       "    }\n",
       "\n",
       "    .dataframe tbody tr th {\n",
       "        vertical-align: top;\n",
       "    }\n",
       "\n",
       "    .dataframe thead th {\n",
       "        text-align: right;\n",
       "    }\n",
       "</style>\n",
       "<table border=\"1\" class=\"dataframe\">\n",
       "  <thead>\n",
       "    <tr style=\"text-align: right;\">\n",
       "      <th></th>\n",
       "      <th>Date</th>\n",
       "      <th>Local Route</th>\n",
       "      <th>Light Rail</th>\n",
       "      <th>Peak Service</th>\n",
       "      <th>Rapid Route</th>\n",
       "      <th>School</th>\n",
       "      <th>Other</th>\n",
       "      <th>Total</th>\n",
       "      <th>year</th>\n",
       "      <th>month</th>\n",
       "      <th>day</th>\n",
       "      <th>weekday</th>\n",
       "    </tr>\n",
       "  </thead>\n",
       "  <tbody>\n",
       "    <tr>\n",
       "      <th>1013</th>\n",
       "      <td>2019-07-01</td>\n",
       "      <td>15987</td>\n",
       "      <td>9962</td>\n",
       "      <td>407</td>\n",
       "      <td>21223</td>\n",
       "      <td>3715</td>\n",
       "      <td>0.0</td>\n",
       "      <td>51294.0</td>\n",
       "      <td>2019</td>\n",
       "      <td>7</td>\n",
       "      <td>1</td>\n",
       "      <td>Monday</td>\n",
       "    </tr>\n",
       "    <tr>\n",
       "      <th>1120</th>\n",
       "      <td>2019-07-02</td>\n",
       "      <td>16895</td>\n",
       "      <td>10656</td>\n",
       "      <td>409</td>\n",
       "      <td>21715</td>\n",
       "      <td>3993</td>\n",
       "      <td>0.0</td>\n",
       "      <td>53668.0</td>\n",
       "      <td>2019</td>\n",
       "      <td>7</td>\n",
       "      <td>2</td>\n",
       "      <td>Tuesday</td>\n",
       "    </tr>\n",
       "    <tr>\n",
       "      <th>1451</th>\n",
       "      <td>2019-07-03</td>\n",
       "      <td>16613</td>\n",
       "      <td>10658</td>\n",
       "      <td>427</td>\n",
       "      <td>22025</td>\n",
       "      <td>3638</td>\n",
       "      <td>0.0</td>\n",
       "      <td>53361.0</td>\n",
       "      <td>2019</td>\n",
       "      <td>7</td>\n",
       "      <td>3</td>\n",
       "      <td>Wednesday</td>\n",
       "    </tr>\n",
       "    <tr>\n",
       "      <th>1171</th>\n",
       "      <td>2019-07-04</td>\n",
       "      <td>16604</td>\n",
       "      <td>10445</td>\n",
       "      <td>437</td>\n",
       "      <td>21868</td>\n",
       "      <td>3576</td>\n",
       "      <td>0.0</td>\n",
       "      <td>52930.0</td>\n",
       "      <td>2019</td>\n",
       "      <td>7</td>\n",
       "      <td>4</td>\n",
       "      <td>Thursday</td>\n",
       "    </tr>\n",
       "    <tr>\n",
       "      <th>1523</th>\n",
       "      <td>2019-07-05</td>\n",
       "      <td>16040</td>\n",
       "      <td>10532</td>\n",
       "      <td>400</td>\n",
       "      <td>20697</td>\n",
       "      <td>2856</td>\n",
       "      <td>0.0</td>\n",
       "      <td>50525.0</td>\n",
       "      <td>2019</td>\n",
       "      <td>7</td>\n",
       "      <td>5</td>\n",
       "      <td>Friday</td>\n",
       "    </tr>\n",
       "  </tbody>\n",
       "</table>\n",
       "</div>"
      ],
      "text/plain": [
       "           Date  Local Route  Light Rail  Peak Service  Rapid Route  School  \\\n",
       "1013 2019-07-01        15987        9962           407        21223    3715   \n",
       "1120 2019-07-02        16895       10656           409        21715    3993   \n",
       "1451 2019-07-03        16613       10658           427        22025    3638   \n",
       "1171 2019-07-04        16604       10445           437        21868    3576   \n",
       "1523 2019-07-05        16040       10532           400        20697    2856   \n",
       "\n",
       "      Other    Total  year  month  day    weekday  \n",
       "1013    0.0  51294.0  2019      7    1     Monday  \n",
       "1120    0.0  53668.0  2019      7    2    Tuesday  \n",
       "1451    0.0  53361.0  2019      7    3  Wednesday  \n",
       "1171    0.0  52930.0  2019      7    4   Thursday  \n",
       "1523    0.0  50525.0  2019      7    5     Friday  "
      ]
     },
     "execution_count": 17,
     "metadata": {},
     "output_type": "execute_result"
    }
   ],
   "source": [
    "df.head()"
   ]
  },
  {
   "cell_type": "code",
   "execution_count": 18,
   "id": "56612b23",
   "metadata": {},
   "outputs": [],
   "source": [
    "from sklearn.preprocessing import MinMaxScaler\n",
    "\n",
    "year_values = df['year'].values.reshape(-1,1)\n",
    "\n",
    "minmax = MinMaxScaler()\n",
    "df['year_scaled'] = minmax.fit_transform(year_values)"
   ]
  },
  {
   "cell_type": "code",
   "execution_count": 19,
   "id": "ce129662",
   "metadata": {},
   "outputs": [
    {
     "data": {
      "text/html": [
       "<div>\n",
       "<style scoped>\n",
       "    .dataframe tbody tr th:only-of-type {\n",
       "        vertical-align: middle;\n",
       "    }\n",
       "\n",
       "    .dataframe tbody tr th {\n",
       "        vertical-align: top;\n",
       "    }\n",
       "\n",
       "    .dataframe thead th {\n",
       "        text-align: right;\n",
       "    }\n",
       "</style>\n",
       "<table border=\"1\" class=\"dataframe\">\n",
       "  <thead>\n",
       "    <tr style=\"text-align: right;\">\n",
       "      <th></th>\n",
       "      <th>Date</th>\n",
       "      <th>Local Route</th>\n",
       "      <th>Light Rail</th>\n",
       "      <th>Peak Service</th>\n",
       "      <th>Rapid Route</th>\n",
       "      <th>School</th>\n",
       "      <th>Other</th>\n",
       "      <th>Total</th>\n",
       "      <th>year</th>\n",
       "      <th>month</th>\n",
       "      <th>day</th>\n",
       "      <th>weekday</th>\n",
       "      <th>year_scaled</th>\n",
       "    </tr>\n",
       "  </thead>\n",
       "  <tbody>\n",
       "    <tr>\n",
       "      <th>1662</th>\n",
       "      <td>2024-09-25</td>\n",
       "      <td>21</td>\n",
       "      <td>0</td>\n",
       "      <td>1</td>\n",
       "      <td>10</td>\n",
       "      <td>8</td>\n",
       "      <td>0.0</td>\n",
       "      <td>40.0</td>\n",
       "      <td>2024</td>\n",
       "      <td>9</td>\n",
       "      <td>25</td>\n",
       "      <td>Wednesday</td>\n",
       "      <td>1.0</td>\n",
       "    </tr>\n",
       "    <tr>\n",
       "      <th>1330</th>\n",
       "      <td>2024-09-26</td>\n",
       "      <td>9</td>\n",
       "      <td>0</td>\n",
       "      <td>0</td>\n",
       "      <td>0</td>\n",
       "      <td>2</td>\n",
       "      <td>0.0</td>\n",
       "      <td>11.0</td>\n",
       "      <td>2024</td>\n",
       "      <td>9</td>\n",
       "      <td>26</td>\n",
       "      <td>Thursday</td>\n",
       "      <td>1.0</td>\n",
       "    </tr>\n",
       "    <tr>\n",
       "      <th>1731</th>\n",
       "      <td>2024-09-27</td>\n",
       "      <td>6</td>\n",
       "      <td>0</td>\n",
       "      <td>0</td>\n",
       "      <td>13</td>\n",
       "      <td>0</td>\n",
       "      <td>0.0</td>\n",
       "      <td>19.0</td>\n",
       "      <td>2024</td>\n",
       "      <td>9</td>\n",
       "      <td>27</td>\n",
       "      <td>Friday</td>\n",
       "      <td>1.0</td>\n",
       "    </tr>\n",
       "    <tr>\n",
       "      <th>1652</th>\n",
       "      <td>2024-09-28</td>\n",
       "      <td>1</td>\n",
       "      <td>0</td>\n",
       "      <td>0</td>\n",
       "      <td>4</td>\n",
       "      <td>0</td>\n",
       "      <td>0.0</td>\n",
       "      <td>5.0</td>\n",
       "      <td>2024</td>\n",
       "      <td>9</td>\n",
       "      <td>28</td>\n",
       "      <td>Saturday</td>\n",
       "      <td>1.0</td>\n",
       "    </tr>\n",
       "    <tr>\n",
       "      <th>160</th>\n",
       "      <td>2024-09-29</td>\n",
       "      <td>1</td>\n",
       "      <td>0</td>\n",
       "      <td>0</td>\n",
       "      <td>3</td>\n",
       "      <td>0</td>\n",
       "      <td>0.0</td>\n",
       "      <td>4.0</td>\n",
       "      <td>2024</td>\n",
       "      <td>9</td>\n",
       "      <td>29</td>\n",
       "      <td>Sunday</td>\n",
       "      <td>1.0</td>\n",
       "    </tr>\n",
       "  </tbody>\n",
       "</table>\n",
       "</div>"
      ],
      "text/plain": [
       "           Date  Local Route  Light Rail  Peak Service  Rapid Route  School  \\\n",
       "1662 2024-09-25           21           0             1           10       8   \n",
       "1330 2024-09-26            9           0             0            0       2   \n",
       "1731 2024-09-27            6           0             0           13       0   \n",
       "1652 2024-09-28            1           0             0            4       0   \n",
       "160  2024-09-29            1           0             0            3       0   \n",
       "\n",
       "      Other  Total  year  month  day    weekday  year_scaled  \n",
       "1662    0.0   40.0  2024      9   25  Wednesday          1.0  \n",
       "1330    0.0   11.0  2024      9   26   Thursday          1.0  \n",
       "1731    0.0   19.0  2024      9   27     Friday          1.0  \n",
       "1652    0.0    5.0  2024      9   28   Saturday          1.0  \n",
       "160     0.0    4.0  2024      9   29     Sunday          1.0  "
      ]
     },
     "execution_count": 19,
     "metadata": {},
     "output_type": "execute_result"
    }
   ],
   "source": [
    "df.tail()"
   ]
  },
  {
   "cell_type": "code",
   "execution_count": 20,
   "id": "051b0a54",
   "metadata": {},
   "outputs": [],
   "source": [
    "week_map = {\n",
    "    'Sunday':1,\n",
    "    'Monday': 2,\n",
    "    'Tuesday':3,\n",
    "    'Wednesday': 4,\n",
    "    'Thursday':5,\n",
    "    'Friday': 6,\n",
    "    'Saturday':7\n",
    "\n",
    "}\n",
    "\n",
    "\n",
    "df['weekday_num'] = df['weekday'].map(week_map)"
   ]
  },
  {
   "cell_type": "code",
   "execution_count": 21,
   "id": "5cbdf706",
   "metadata": {},
   "outputs": [
    {
     "data": {
      "text/html": [
       "<div>\n",
       "<style scoped>\n",
       "    .dataframe tbody tr th:only-of-type {\n",
       "        vertical-align: middle;\n",
       "    }\n",
       "\n",
       "    .dataframe tbody tr th {\n",
       "        vertical-align: top;\n",
       "    }\n",
       "\n",
       "    .dataframe thead th {\n",
       "        text-align: right;\n",
       "    }\n",
       "</style>\n",
       "<table border=\"1\" class=\"dataframe\">\n",
       "  <thead>\n",
       "    <tr style=\"text-align: right;\">\n",
       "      <th></th>\n",
       "      <th>Date</th>\n",
       "      <th>Local Route</th>\n",
       "      <th>Light Rail</th>\n",
       "      <th>Peak Service</th>\n",
       "      <th>Rapid Route</th>\n",
       "      <th>School</th>\n",
       "      <th>Other</th>\n",
       "      <th>Total</th>\n",
       "      <th>year</th>\n",
       "      <th>month</th>\n",
       "      <th>day</th>\n",
       "      <th>weekday</th>\n",
       "      <th>year_scaled</th>\n",
       "      <th>weekday_num</th>\n",
       "    </tr>\n",
       "  </thead>\n",
       "  <tbody>\n",
       "    <tr>\n",
       "      <th>1013</th>\n",
       "      <td>2019-07-01</td>\n",
       "      <td>15987</td>\n",
       "      <td>9962</td>\n",
       "      <td>407</td>\n",
       "      <td>21223</td>\n",
       "      <td>3715</td>\n",
       "      <td>0.0</td>\n",
       "      <td>51294.0</td>\n",
       "      <td>2019</td>\n",
       "      <td>7</td>\n",
       "      <td>1</td>\n",
       "      <td>Monday</td>\n",
       "      <td>0.0</td>\n",
       "      <td>2</td>\n",
       "    </tr>\n",
       "    <tr>\n",
       "      <th>1120</th>\n",
       "      <td>2019-07-02</td>\n",
       "      <td>16895</td>\n",
       "      <td>10656</td>\n",
       "      <td>409</td>\n",
       "      <td>21715</td>\n",
       "      <td>3993</td>\n",
       "      <td>0.0</td>\n",
       "      <td>53668.0</td>\n",
       "      <td>2019</td>\n",
       "      <td>7</td>\n",
       "      <td>2</td>\n",
       "      <td>Tuesday</td>\n",
       "      <td>0.0</td>\n",
       "      <td>3</td>\n",
       "    </tr>\n",
       "    <tr>\n",
       "      <th>1451</th>\n",
       "      <td>2019-07-03</td>\n",
       "      <td>16613</td>\n",
       "      <td>10658</td>\n",
       "      <td>427</td>\n",
       "      <td>22025</td>\n",
       "      <td>3638</td>\n",
       "      <td>0.0</td>\n",
       "      <td>53361.0</td>\n",
       "      <td>2019</td>\n",
       "      <td>7</td>\n",
       "      <td>3</td>\n",
       "      <td>Wednesday</td>\n",
       "      <td>0.0</td>\n",
       "      <td>4</td>\n",
       "    </tr>\n",
       "    <tr>\n",
       "      <th>1171</th>\n",
       "      <td>2019-07-04</td>\n",
       "      <td>16604</td>\n",
       "      <td>10445</td>\n",
       "      <td>437</td>\n",
       "      <td>21868</td>\n",
       "      <td>3576</td>\n",
       "      <td>0.0</td>\n",
       "      <td>52930.0</td>\n",
       "      <td>2019</td>\n",
       "      <td>7</td>\n",
       "      <td>4</td>\n",
       "      <td>Thursday</td>\n",
       "      <td>0.0</td>\n",
       "      <td>5</td>\n",
       "    </tr>\n",
       "    <tr>\n",
       "      <th>1523</th>\n",
       "      <td>2019-07-05</td>\n",
       "      <td>16040</td>\n",
       "      <td>10532</td>\n",
       "      <td>400</td>\n",
       "      <td>20697</td>\n",
       "      <td>2856</td>\n",
       "      <td>0.0</td>\n",
       "      <td>50525.0</td>\n",
       "      <td>2019</td>\n",
       "      <td>7</td>\n",
       "      <td>5</td>\n",
       "      <td>Friday</td>\n",
       "      <td>0.0</td>\n",
       "      <td>6</td>\n",
       "    </tr>\n",
       "  </tbody>\n",
       "</table>\n",
       "</div>"
      ],
      "text/plain": [
       "           Date  Local Route  Light Rail  Peak Service  Rapid Route  School  \\\n",
       "1013 2019-07-01        15987        9962           407        21223    3715   \n",
       "1120 2019-07-02        16895       10656           409        21715    3993   \n",
       "1451 2019-07-03        16613       10658           427        22025    3638   \n",
       "1171 2019-07-04        16604       10445           437        21868    3576   \n",
       "1523 2019-07-05        16040       10532           400        20697    2856   \n",
       "\n",
       "      Other    Total  year  month  day    weekday  year_scaled  weekday_num  \n",
       "1013    0.0  51294.0  2019      7    1     Monday          0.0            2  \n",
       "1120    0.0  53668.0  2019      7    2    Tuesday          0.0            3  \n",
       "1451    0.0  53361.0  2019      7    3  Wednesday          0.0            4  \n",
       "1171    0.0  52930.0  2019      7    4   Thursday          0.0            5  \n",
       "1523    0.0  50525.0  2019      7    5     Friday          0.0            6  "
      ]
     },
     "execution_count": 21,
     "metadata": {},
     "output_type": "execute_result"
    }
   ],
   "source": [
    "df.head()"
   ]
  },
  {
   "cell_type": "code",
   "execution_count": 22,
   "id": "76f9efb0",
   "metadata": {},
   "outputs": [],
   "source": [
    "from sklearn.model_selection import train_test_split\n",
    "from sklearn.linear_model import LinearRegression\n",
    "from sklearn.metrics import mean_squared_error, r2_score"
   ]
  },
  {
   "cell_type": "code",
   "execution_count": 23,
   "id": "453d7b55",
   "metadata": {},
   "outputs": [],
   "source": [
    "X= df[['month', 'weekday_num', 'day','Total']]\n",
    "y = df['Local Route']"
   ]
  },
  {
   "cell_type": "code",
   "execution_count": 24,
   "id": "3ec02a11",
   "metadata": {},
   "outputs": [],
   "source": [
    "X_train, X_test, y_train,y_test = train_test_split(X,y)"
   ]
  },
  {
   "cell_type": "markdown",
   "id": "e00b381b",
   "metadata": {},
   "source": [
    "model = LinearRegression()\n",
    "model.fit(X_train, y_train)"
   ]
  },
  {
   "cell_type": "markdown",
   "id": "15110a6b",
   "metadata": {},
   "source": [
    "# Technical Report: Linear Regression for Ridership Forecasting\n",
    "## Introduction\n",
    "Linear regression was used to predict `Local Route` ridership, with plans to extend to other modes.\n",
    "## Algorithm\n",
    "Linear regression models \\( y = X\\beta + \\epsilon \\), minimizing MSE.\n",
    "## Features\n",
    "- month, weekday_num, day, Total\n",
    "## Parameters\n",
    "- fit_intercept=True, normalize=False\n",
    "## Performance\n",
    "- MSE: 635,466.92, R²: 0.983\n",
    "## Conclusion\n",
    "Effective for `Local Route`; extend to other modes and refine features."
   ]
  },
  {
   "cell_type": "markdown",
   "id": "0cba92d1",
   "metadata": {},
   "source": [
    "In a Jupyter environment, please rerun this cell to show the HTML representation or trust the notebook.\n",
    "On GitHub, the HTML representation is unable to render, please try loading this page with nbviewer.org."
   ]
  },
  {
   "cell_type": "code",
   "execution_count": 26,
   "id": "1aeda27c",
   "metadata": {},
   "outputs": [],
   "source": [
    "y_pred = model.predict(X_test)\n",
    "\n",
    "mse = mean_squared_error(y_test, y_pred)\n",
    "r2 = r2_score(y_test, y_pred)"
   ]
  },
  {
   "cell_type": "code",
   "execution_count": 27,
   "id": "d6ea933a",
   "metadata": {},
   "outputs": [
    {
     "data": {
      "text/plain": [
       "635466.9180923286"
      ]
     },
     "execution_count": 27,
     "metadata": {},
     "output_type": "execute_result"
    }
   ],
   "source": [
    "mse"
   ]
  },
  {
   "cell_type": "code",
   "execution_count": 28,
   "id": "0631f94f",
   "metadata": {},
   "outputs": [
    {
     "data": {
      "text/plain": [
       "0.9832743033743511"
      ]
     },
     "execution_count": 28,
     "metadata": {},
     "output_type": "execute_result"
    }
   ],
   "source": [
    "r2"
   ]
  },
  {
   "cell_type": "code",
   "execution_count": 29,
   "id": "8f7dd351",
   "metadata": {},
   "outputs": [
    {
     "name": "stderr",
     "output_type": "stream",
     "text": [
      "d:\\kovai-data-science-intern\\venv\\Lib\\site-packages\\sklearn\\utils\\validation.py:2739: UserWarning: X does not have valid feature names, but LinearRegression was fitted with feature names\n",
      "  warnings.warn(\n"
     ]
    }
   ],
   "source": [
    "pred = model.predict([[7,2,1,51294.1]])"
   ]
  },
  {
   "cell_type": "code",
   "execution_count": 30,
   "id": "720bac1c",
   "metadata": {},
   "outputs": [
    {
     "data": {
      "text/plain": [
       "array([16351.8905085])"
      ]
     },
     "execution_count": 30,
     "metadata": {},
     "output_type": "execute_result"
    }
   ],
   "source": [
    "pred"
   ]
  },
  {
   "cell_type": "code",
   "execution_count": 31,
   "id": "15b705e9",
   "metadata": {},
   "outputs": [],
   "source": [
    "def give_model(y): # gives models for every column like Local route, peek and all\n",
    "    X_train, X_test, y_train,y_test = train_test_split(X,y)\n",
    "    model = LinearRegression()\n",
    "    model.fit(X_train, y_train)\n",
    "\n",
    "    return model"
   ]
  },
  {
   "cell_type": "code",
   "execution_count": 39,
   "id": "4cd96464",
   "metadata": {},
   "outputs": [],
   "source": [
    "def give_prediction(x): #makes predictions\n",
    "    preds = []\n",
    "    for i in x:\n",
    "        print(i)\n",
    "        preds.append(model.predict(i))"
   ]
  },
  {
   "cell_type": "code",
   "execution_count": 40,
   "id": "7fe34447",
   "metadata": {},
   "outputs": [],
   "source": [
    "localRout_model = give_model(df['Local Route'])"
   ]
  },
  {
   "cell_type": "code",
   "execution_count": 41,
   "id": "53d9edf2",
   "metadata": {},
   "outputs": [
    {
     "name": "stdout",
     "output_type": "stream",
     "text": [
      "[[7, 2, 1, 51294.1]]\n"
     ]
    },
    {
     "name": "stderr",
     "output_type": "stream",
     "text": [
      "d:\\kovai-data-science-intern\\venv\\Lib\\site-packages\\sklearn\\utils\\validation.py:2739: UserWarning: X does not have valid feature names, but LinearRegression was fitted with feature names\n",
      "  warnings.warn(\n"
     ]
    }
   ],
   "source": [
    "\n",
    "test = [[[7,2,1,51294.1]]]\n",
    "lst= give_prediction(test)"
   ]
  },
  {
   "cell_type": "code",
   "execution_count": 42,
   "id": "b01246b8",
   "metadata": {},
   "outputs": [
    {
     "name": "stdout",
     "output_type": "stream",
     "text": [
      "None\n"
     ]
    }
   ],
   "source": [
    "print(lst)"
   ]
  },
  {
   "cell_type": "code",
   "execution_count": 43,
   "id": "072518a8",
   "metadata": {},
   "outputs": [
    {
     "name": "stdout",
     "output_type": "stream",
     "text": [
      "            Local Route   Light Rail  Peak Service   Rapid Route       School\n",
      "2024-10-01  9963.825160  6959.290072    197.745934  12573.952659  2523.699228\n",
      "2024-10-02  9936.900562  7063.166810    188.967570  12576.202770  2452.934404\n",
      "2024-10-03  9909.975964  7167.043548    180.189206  12578.452881  2382.169579\n",
      "2024-10-04  9883.051366  7270.920285    171.410843  12580.702991  2311.404755\n",
      "2024-10-05  9856.126768  7374.797023    162.632479  12582.953102  2240.639930\n",
      "2024-10-06  9829.202171  7478.673761    153.854116  12585.203213  2169.875106\n",
      "2024-10-07  9987.992403  6857.345544    205.451783  12575.371703  2593.099142\n"
     ]
    }
   ],
   "source": [
    "from sklearn.linear_model import LinearRegression\n",
    "import pandas as pd\n",
    "from datetime import datetime, timedelta\n",
    "\n",
    "# Define models for each mode\n",
    "modes = ['Local Route', 'Light Rail', 'Peak Service', 'Rapid Route', 'School']\n",
    "models = {}\n",
    "for mode in modes:\n",
    "    X = df[['month', 'weekday_num', 'day', 'Total']]\n",
    "    y = df[mode]\n",
    "    model = LinearRegression().fit(X, y)\n",
    "    models[mode] = model\n",
    "\n",
    "# Generate 7-day forecast inputs (example for Oct 1–7, 2024)\n",
    "forecast_dates = pd.date_range(start='2024-10-01', end='2024-10-07', freq='D')\n",
    "forecast_data = []\n",
    "avg_total = df['Total'].mean()  # Placeholder; estimate Total\n",
    "for date in forecast_dates:\n",
    "    forecast_data.append([date.month, date.weekday() + 1, date.day, avg_total])\n",
    "forecast_df = pd.DataFrame(forecast_data, columns=['month', 'weekday_num', 'day', 'Total'])\n",
    "\n",
    "# Predict for each mode\n",
    "predictions = {}\n",
    "for mode in modes:\n",
    "    predictions[mode] = models[mode].predict(forecast_df)\n",
    "forecast_results = pd.DataFrame(predictions, index=forecast_dates)\n",
    "print(forecast_results)"
   ]
  },
  {
   "cell_type": "code",
   "execution_count": 44,
   "id": "750776ee",
   "metadata": {},
   "outputs": [
    {
     "data": {
      "image/png": "[encoded data removed]",
      "text/plain": [
       "<Figure size 1200x600 with 1 Axes>"
      ]
     },
     "metadata": {},
     "output_type": "display_data"
    }
   ],
   "source": [
    "plt.figure(figsize=(12, 6))\n",
    "for mode in modes:\n",
    "    plt.plot(forecast_results.index, forecast_results[mode], label=mode)\n",
    "plt.title('7-Day Ridership Forecast (Oct 1–7, 2024)')\n",
    "plt.xlabel('Date')\n",
    "plt.ylabel('Ridership')\n",
    "plt.legend()\n",
    "plt.grid(True)\n",
    "plt.xticks(rotation=45)\n",
    "plt.show()"
   ]
  },
  {
   "cell_type": "code",
   "execution_count": null,
   "id": "e74eed53",
   "metadata": {},
   "outputs": [],
   "source": []
  }
 ],
 "metadata": {
  "kernelspec": {
   "display_name": "Python 3 (ipykernel)",
   "language": "python",
   "name": "python3"
  },
  "language_info": {
   "codemirror_mode": {
    "name": "ipython",
    "version": 3
   },
   "file_extension": ".py",
   "mimetype": "text/x-python",
   "name": "python",
   "nbconvert_exporter": "python",
   "pygments_lexer": "ipython3",
   "version": "3.11.9"
  }
 },
 "nbformat": 4,
 "nbformat_minor": 5
}
